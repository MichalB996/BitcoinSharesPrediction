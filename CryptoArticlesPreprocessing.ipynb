{
 "cells": [
  {
   "cell_type": "code",
   "execution_count": 14,
   "metadata": {},
   "outputs": [],
   "source": [
    "#packages\n",
    "import sys\n",
    "import re\n",
    "import gensim\n",
    "import numpy as np\n",
    "import string\n",
    "import pandas as pd\n",
    "import os\n",
    "import yahoo_finance\n",
    "import yfinance as yf\n",
    "import datetime\n",
    "import matplotlib.pylab as plt\n",
    "import json"
   ]
  },
  {
   "cell_type": "code",
   "execution_count": 365,
   "metadata": {},
   "outputs": [],
   "source": [
    "# roots\n",
    "baseRoot = r'D:\\wiki_cleaner\\Whole_wikipedia\\results100\\Articles\\Articles'\n",
    "finalRoot = r'D:\\wiki_cleaner\\Whole_wikipedia\\results100'"
   ]
  },
  {
   "cell_type": "code",
   "execution_count": 366,
   "metadata": {},
   "outputs": [],
   "source": [
    "# colections\n",
    "allArticlesPerDate = {}\n",
    "datePriceDictionary = {}\n",
    "startDate = None"
   ]
  },
  {
   "cell_type": "code",
   "execution_count": 367,
   "metadata": {},
   "outputs": [],
   "source": [
    "# convert string to date format\n",
    "def convertToDateFromat(stringDate):\n",
    "    if len(stringDate.split('.')) != 3:\n",
    "        print('Wrong format of date: '+stringDate)\n",
    "        raise\n",
    "    return datetime.datetime.strptime(stringDate.split('.')[2]+'-'+stringDate.split('.')[1]+'-'+stringDate.split('.')[0], '%Y-%m-%d').date() "
   ]
  },
  {
   "cell_type": "code",
   "execution_count": 368,
   "metadata": {},
   "outputs": [],
   "source": [
    "def convertToDateFromatFromBitcoinApiFormat(stringDate):\n",
    "    if len(stringDate.split('.')) != 3:\n",
    "        print('Wrong format of date: '+stringDate)\n",
    "        raise\n",
    "    return str(i.date()).split('-')[2]+'.'+str(i.date()).split('-')[1]+'.'+str(i.date()).split('-')[0]"
   ]
  },
  {
   "cell_type": "code",
   "execution_count": 369,
   "metadata": {},
   "outputs": [],
   "source": [
    "# create dictionary with key as datetime.date format and values as list of articles\n",
    "def articlesSegregation(baseRoot):\n",
    "    dateDictionary = {}\n",
    "    articlesDictionary = {}\n",
    "    for externalFolderName in os.listdir(baseRoot):\n",
    "        for innerFileName in os.listdir(os.path.join(baseRoot, externalFolderName)):\n",
    "            for fileName in os.listdir(os.path.join(os.path.join(baseRoot, externalFolderName), innerFileName)):            \n",
    "                name = str(baseRoot+'/'+ externalFolderName+ '/' + innerFileName + '/' + fileName)\n",
    "                if externalFolderName in dateDictionary:\n",
    "                    dateDictionary[externalFolderName].append(name)\n",
    "                elif externalFolderName not in dateDictionary:\n",
    "                    dateDictionary[externalFolderName] = [name]  \n",
    "    for date in dateDictionary:\n",
    "        if date.split('.')[2][0] != '1' and date.split('.')[2][0] != '2':\n",
    "            continue\n",
    "        for article in dateDictionary[date]:\n",
    "            if convertToDateFromat(date) in articlesDictionary:\n",
    "                articlesDictionary[convertToDateFromat(date)].append(' '.join(open(article, 'r',errors='ignore',encoding=\"utf8\").readlines()) + '\\n')\n",
    "            elif convertToDateFromat(date) not in articlesDictionary:\n",
    "                articlesDictionary[convertToDateFromat(date)] = [' '.join(open(article, 'r',errors='ignore',encoding=\"utf8\").readlines()) + '\\n']\n",
    "    return articlesDictionary"
   ]
  },
  {
   "cell_type": "code",
   "execution_count": 370,
   "metadata": {},
   "outputs": [],
   "source": [
    "def createBitcoinSharesDataset(articlesDictionary,timePeriod):\n",
    "    datePriceDictionary = {}\n",
    "    # create connection object to bitcoin API\n",
    "    bitcoinShares = yf.Ticker(\"BTC-USD\")\n",
    "    startDate = sorted(list(articlesDictionary.keys()))[0]\n",
    "    # get historical market data for 5 year period\n",
    "    historical_data = bitcoinShares.history(period=timePeriod)\n",
    "    for i, row in historical_data.iterrows():\n",
    "        if(i.date() >= startDate):\n",
    "            datePriceDictionary[i.date()] = row['Close']\n",
    "    return datePriceDictionary"
   ]
  },
  {
   "cell_type": "code",
   "execution_count": 371,
   "metadata": {},
   "outputs": [],
   "source": [
    "# create dictionary with key as datetime.date format and values as list of articles\n",
    "def prepareArticlesLabels(sharesDictionary):    \n",
    "    labeledDictionary = {}\n",
    "    sortedDict = sorted(list(sharesDictionary.keys()))\n",
    "    for x in range(0, len(sortedDict)):\n",
    "        if x == len(sortedDict) - 1:\n",
    "            break\n",
    "        if sharesDictionary[sortedDict[x]] > sharesDictionary[sortedDict[x+1]]:\n",
    "            labeledDictionary[sortedDict[x+1]] = 'pos'\n",
    "        else:\n",
    "            labeledDictionary[sortedDict[x+1]] = 'neg'\n",
    "    return labeledDictionary"
   ]
  },
  {
   "cell_type": "code",
   "execution_count": 372,
   "metadata": {},
   "outputs": [],
   "source": [
    "def labelArticlesWitchMarketChange(segregatedArticles, markedDates):\n",
    "    labeledArticleDictionary = {}\n",
    "    for date in markedDates.keys():        \n",
    "        if date in markedDates and date in segregatedArticles:\n",
    "            labeledArticleDictionary[date] = [markedDates[date], segregatedArticles[date]]\n",
    "        else:\n",
    "            print('Missing dates: '+ str(date))\n",
    "    return labeledArticleDictionary"
   ]
  },
  {
   "cell_type": "code",
   "execution_count": 373,
   "metadata": {},
   "outputs": [],
   "source": [
    "def removeStopList(article):\n",
    "    article = article.split() \n",
    "    stoplist = ['the', 'a', 'and', 'of', 'to', 'is', 'in', 'i', 'it', 'that', 'this', 'br', 'on', 'his', 'her', 'he', 'she', 'one',\n",
    "           'all', 'an', 'at', 'by', 'all', 'an', 'or', 'its', 'they', 'just', 'out', 'just', 'some', 'if', 'see', 'my', 'me']\n",
    "    for word in stoplist:\n",
    "        if word in article:\n",
    "            article = [value for value in article if value != word]\n",
    "    return article"
   ]
  },
  {
   "cell_type": "code",
   "execution_count": 374,
   "metadata": {},
   "outputs": [],
   "source": [
    "def removePunctuation(article):\n",
    "    return \" \".join(\" \".join(article).translate(str.maketrans('','',string.punctuation)).lower().replace('\\n',' ').split()) "
   ]
  },
  {
   "cell_type": "code",
   "execution_count": 375,
   "metadata": {},
   "outputs": [],
   "source": [
    "def createJson(article,label):\n",
    "    start = '{\"text\":['\n",
    "    end = '], \"label\": \"{lab}\"'.format(lab = label) + '}'\n",
    "    middle = ''\n",
    "    for word in article:\n",
    "        middle += '\"' + str(word) + '\"' +','\n",
    "    middle = middle[:-1]\n",
    "    json = start+ middle + end + '\\n'\n",
    "    return json"
   ]
  },
  {
   "cell_type": "code",
   "execution_count": 376,
   "metadata": {},
   "outputs": [],
   "source": [
    "def preprocessTextData(labeleDictionary,finalRoot):\n",
    "    file_object = open(finalRoot + r'/result.json', 'a',errors='ignore',encoding=\"utf8\")\n",
    "    for key, value in labeleDictionary.items():\n",
    "        article = labeleDictionary[key][1]\n",
    "        label = labeleDictionary[key][0]\n",
    "        article = removePunctuation(article)\n",
    "        article = removeStopList(article)\n",
    "        file_object.write(createJson(article,label))\n",
    "        "
   ]
  },
  {
   "cell_type": "code",
   "execution_count": 12,
   "metadata": {},
   "outputs": [],
   "source": [
    "def tryJson(root):\n",
    "    file_object = open(root, 'r',errors='ignore',encoding=\"utf8\")\n",
    "    lines = file_object.readlines()\n",
    "    for line in lines:        \n",
    "        json.loads(line)"
   ]
  },
  {
   "cell_type": "code",
   "execution_count": 377,
   "metadata": {},
   "outputs": [
    {
     "name": "stdout",
     "output_type": "stream",
     "text": [
      "Missing dates: 2020-04-21\n",
      "Missing dates: 2020-04-22\n",
      "Missing dates: 2020-04-23\n",
      "Missing dates: 2020-04-25\n"
     ]
    }
   ],
   "source": [
    "timePeriodForBitcoingAnalysing = \"5y\"\n",
    "segregatedArticles = articlesSegregation(baseRoot)\n",
    "bitcoinSharesPrice = createBitcoinSharesDataset(segregatedArticles,timePeriodForBitcoingAnalysing)\n",
    "markedDates = prepareArticlesLabels(bitcoinSharesPrice)\n",
    "labeledArticlesDictionary = labelArticlesWitchMarketChange(segregatedArticles, markedDates)\n",
    "preprocessTextData(labeledArticlesDictionary,finalRoot)"
   ]
  }
 ],
 "metadata": {
  "kernelspec": {
   "display_name": "Python 3",
   "language": "python",
   "name": "python3"
  },
  "language_info": {
   "codemirror_mode": {
    "name": "ipython",
    "version": 3
   },
   "file_extension": ".py",
   "mimetype": "text/x-python",
   "name": "python",
   "nbconvert_exporter": "python",
   "pygments_lexer": "ipython3",
   "version": "3.7.6"
  }
 },
 "nbformat": 4,
 "nbformat_minor": 4
}
